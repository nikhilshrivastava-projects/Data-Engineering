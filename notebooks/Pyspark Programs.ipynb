{
 "cells": [
  {
   "cell_type": "code",
   "execution_count": null,
   "id": "23c55773",
   "metadata": {},
   "outputs": [],
   "source": [
    "# Word Count Program using Apache Spark\n",
    "\n",
    "# This notebook demonstrates how to perform a simple word count using Apache Spark. \n",
    "# The program reads a text file, \n",
    "# splits the lines into words, \n",
    "# counts the occurrences of each word, \n",
    "# and displays the results."
   ]
  },
  {
   "cell_type": "markdown",
   "id": "ed3542c8",
   "metadata": {},
   "source": [
    "include '%pip install pyspark' if pyspark is not installed"
   ]
  },
  {
   "cell_type": "code",
   "execution_count": null,
   "id": "10216137",
   "metadata": {},
   "outputs": [
    {
     "name": "stdout",
     "output_type": "stream",
     "text": [
      "file: 4\n",
      "for: 2\n",
      "word: 1\n",
      "Pyspark: 1\n",
      "Programs.ipynb: 1\n",
      "just: 1\n",
      "Sample: 2\n",
      "pyspark: 1\n",
      "count: 1\n",
      "program: 1\n",
      "Refer: 1\n",
      "is: 1\n",
      "a: 1\n",
      "reference: 1\n"
     ]
    }
   ],
   "source": [
    "import os\n",
    "\n",
    "# Create the resources directory and sample file if they don't exist\n",
    "os.makedirs(\"resources\", exist_ok=True)\n",
    "sample_file_path = \"resources/samplefile_pyspark_wordcount.txt\"\n",
    "if not os.path.exists(sample_file_path):\n",
    "    with open(sample_file_path, \"w\") as f:\n",
    "        f.write(\"hello world\\nhello spark\\nhello world\\n\")\n",
    "\n",
    "\n",
    "\n",
    "from pyspark import SparkContext\n",
    "\n",
    "# Initialize SparkContext\n",
    "# SparkContext is the entry point to any Spark functionality.\n",
    "# It allows your Python program to connect to the Spark cluster and create RDDs (Resilient Distributed Datasets).\n",
    "sc = SparkContext.getOrCreate()\n",
    "\n",
    "# Read the text file\n",
    "# Check if the file exists and is accessible before reading\n",
    "sample_file_path = \"resources/samplefile_pyspark_wordcount.txt\"\n",
    "\n",
    "text_file = sc.textFile(sample_file_path)\n",
    "\n",
    "# Split each line into words\n",
    "words = text_file.flatMap(lambda line: line.split())\n",
    "\n",
    "# Map each word to a (word, 1) pair\n",
    "word_pairs = words.map(lambda word: (word, 1))\n",
    "\n",
    "# Reduce by key to count occurrences\n",
    "word_counts = word_pairs.reduceByKey(lambda a, b: a + b)\n",
    "\n",
    "# Collect and display the results\n",
    "for word, count in word_counts.collect():\n",
    "    print(f\"{word}: {count}\")"
   ]
  }
 ],
 "metadata": {
  "kernelspec": {
   "display_name": "base",
   "language": "python",
   "name": "python3"
  },
  "language_info": {
   "codemirror_mode": {
    "name": "ipython",
    "version": 3
   },
   "file_extension": ".py",
   "mimetype": "text/x-python",
   "name": "python",
   "nbconvert_exporter": "python",
   "pygments_lexer": "ipython3",
   "version": "3.11.7"
  }
 },
 "nbformat": 4,
 "nbformat_minor": 5
}
