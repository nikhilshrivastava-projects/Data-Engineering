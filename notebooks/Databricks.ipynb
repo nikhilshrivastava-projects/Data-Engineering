{
 "cells": [
  {
   "cell_type": "code",
   "execution_count": 22,
   "id": "2ecbfa57",
   "metadata": {},
   "outputs": [],
   "source": [
    "from pyspark.sql import SparkSession\n",
    "\n",
    "spark = SparkSession.builder.appName('MySparkApp')\\\n",
    ".master('local[2]')\\\n",
    ".config(\"spark.jars.packages\", \"io.delta:delta-core_2.12:2.4.0\") \\\n",
    ".config(\"spark.sql.extensions\", \"io.delta.sql.DeltaSparkSessionExtension\") \\\n",
    ".config(\"spark.sql.catalog.spark_catalog\", \"org.apache.spark.sql.delta.catalog.DeltaCatalog\") \\\n",
    ".getOrCreate()\n",
    "\n",
    "spark.sparkContext.setLogLevel(\"ERROR\")"
   ]
  },
  {
   "cell_type": "markdown",
   "id": "e8691704",
   "metadata": {},
   "source": [
    "1. What is the difference between Narrow and Wide Transformations?\n",
    "\n",
    "✅ Narrow Transformations\n",
    "\t•\tOnly a single partition of data is required to compute the result.\n",
    "\t•\tNo shuffling of data across partitions.\n",
    "\t•\tExamples: map(), filter(), flatMap().\n",
    "\n",
    "✅ Wide Transformations\n",
    "\t•\tData from multiple partitions may be required.\n",
    "\t•\tInvolves shuffling (expensive network operation).\n",
    "\t•\tExamples: groupByKey(), reduceByKey(), join()."
   ]
  },
  {
   "cell_type": "code",
   "execution_count": null,
   "id": "4e2719ca",
   "metadata": {},
   "outputs": [
    {
     "name": "stderr",
     "output_type": "stream",
     "text": [
      "                                                                                \r"
     ]
    },
    {
     "name": "stdout",
     "output_type": "stream",
     "text": [
      "[2, 4, 6, 8]\n",
      "[('b', (1, 2)), ('a', (1, 2))]\n"
     ]
    }
   ],
   "source": [
    "# Narrow Transformation\n",
    "rdd = spark.sparkContext.parallelize([1, 2, 3, 4])\n",
    "mapped_rdd = rdd.map(lambda x: x * 2)\n",
    "print(mapped_rdd.collect())  # Output: [2, 4, 6, 8]\n",
    "\n",
    "# Wide Transformation (shuffle)\n",
    "rdd1 = spark.sparkContext.parallelize([(\"a\", 1), (\"b\", 1)])\n",
    "rdd2 = spark.sparkContext.parallelize([(\"a\", 2), (\"b\", 2)])\n",
    "joined = rdd1.join(rdd2)\n",
    "print(joined.collect())  # Output: [('a', (1, 2)), ('b', (1, 2))]"
   ]
  },
  {
   "cell_type": "markdown",
   "id": "aaaab4e4",
   "metadata": {},
   "source": [
    "For output of previous cell:\n",
    "\n",
    "- The first output [2, 4, 6, 8] shows each element doubled (narrow transformation).\n",
    "- The second output [('a', (1, 2)), ('b', (1, 2))] shows the result of joining the two RDDs on their keys (wide transformation)"
   ]
  },
  {
   "cell_type": "markdown",
   "id": "c7b06a2d",
   "metadata": {},
   "source": [
    "2. How optimization is done in Delta Lake?\n",
    "\n",
    "Delta Lake provides optimizations like:\n",
    "\t•\tZ-Ordering: Organizes data to improve skipping during queries.\n",
    "\t•\tData Skipping: Uses file-level statistics (min/max, null counts).\n",
    "\t•\tFile Compaction (Optimize): Reduces small files for faster read.\n",
    "\t•\tCaching: Frequently accessed data can be cached."
   ]
  },
  {
   "cell_type": "code",
   "execution_count": 27,
   "id": "a356fefb",
   "metadata": {},
   "outputs": [
    {
     "name": "stdout",
     "output_type": "stream",
     "text": [
      "Requirement already satisfied: delta-spark in /opt/anaconda3/lib/python3.11/site-packages (4.0.0)\n",
      "Requirement already satisfied: pyspark>=4.0.0 in /opt/anaconda3/lib/python3.11/site-packages (from delta-spark) (4.0.0)\n",
      "Requirement already satisfied: importlib-metadata>=1.0.0 in /opt/anaconda3/lib/python3.11/site-packages (from delta-spark) (7.0.1)\n",
      "Requirement already satisfied: zipp>=0.5 in /opt/anaconda3/lib/python3.11/site-packages (from importlib-metadata>=1.0.0->delta-spark) (3.17.0)\n",
      "Requirement already satisfied: py4j==0.10.9.9 in /opt/anaconda3/lib/python3.11/site-packages (from pyspark>=4.0.0->delta-spark) (0.10.9.9)\n",
      "Note: you may need to restart the kernel to use updated packages.\n"
     ]
    },
    {
     "ename": "Py4JJavaError",
     "evalue": "An error occurred while calling o732.saveAsTable.\n: org.apache.spark.SparkClassNotFoundException: [DATA_SOURCE_NOT_FOUND] Failed to find the data source: delta. Make sure the provider name is correct and the package is properly registered and compatible with your Spark version. SQLSTATE: 42K02\n\tat org.apache.spark.sql.errors.QueryExecutionErrors$.dataSourceNotFoundError(QueryExecutionErrors.scala:722)\n\tat org.apache.spark.sql.execution.datasources.DataSource$.lookupDataSource(DataSource.scala:681)\n\tat org.apache.spark.sql.execution.datasources.DataSource$.lookupDataSourceV2(DataSource.scala:740)\n\tat org.apache.spark.sql.classic.DataFrameWriter.lookupV2Provider(DataFrameWriter.scala:626)\n\tat org.apache.spark.sql.classic.DataFrameWriter.saveAsTable(DataFrameWriter.scala:436)\n\tat java.base/jdk.internal.reflect.NativeMethodAccessorImpl.invoke0(Native Method)\n\tat java.base/jdk.internal.reflect.NativeMethodAccessorImpl.invoke(NativeMethodAccessorImpl.java:77)\n\tat java.base/jdk.internal.reflect.DelegatingMethodAccessorImpl.invoke(DelegatingMethodAccessorImpl.java:43)\n\tat java.base/java.lang.reflect.Method.invoke(Method.java:568)\n\tat py4j.reflection.MethodInvoker.invoke(MethodInvoker.java:244)\n\tat py4j.reflection.ReflectionEngine.invoke(ReflectionEngine.java:374)\n\tat py4j.Gateway.invoke(Gateway.java:282)\n\tat py4j.commands.AbstractCommand.invokeMethod(AbstractCommand.java:132)\n\tat py4j.commands.CallCommand.execute(CallCommand.java:79)\n\tat py4j.ClientServerConnection.waitForCommands(ClientServerConnection.java:184)\n\tat py4j.ClientServerConnection.run(ClientServerConnection.java:108)\n\tat java.base/java.lang.Thread.run(Thread.java:833)\nCaused by: java.lang.ClassNotFoundException: delta.DefaultSource\n\tat java.base/java.net.URLClassLoader.findClass(URLClassLoader.java:445)\n\tat java.base/java.lang.ClassLoader.loadClass(ClassLoader.java:587)\n\tat java.base/java.lang.ClassLoader.loadClass(ClassLoader.java:520)\n\tat org.apache.spark.sql.execution.datasources.DataSource$.$anonfun$lookupDataSource$6(DataSource.scala:665)\n\tat scala.util.Try$.apply(Try.scala:217)\n\tat org.apache.spark.sql.execution.datasources.DataSource$.$anonfun$lookupDataSource$5(DataSource.scala:665)\n\tat scala.util.Failure.orElse(Try.scala:230)\n\tat org.apache.spark.sql.execution.datasources.DataSource$.lookupDataSource(DataSource.scala:665)\n\t... 15 more\n",
     "output_type": "error",
     "traceback": [
      "\u001b[0;31m---------------------------------------------------------------------------\u001b[0m",
      "\u001b[0;31mPy4JJavaError\u001b[0m                             Traceback (most recent call last)",
      "Cell \u001b[0;32mIn[27], line 17\u001b[0m\n\u001b[1;32m      8\u001b[0m sales_df \u001b[38;5;241m=\u001b[39m spark\u001b[38;5;241m.\u001b[39mcreateDataFrame([\n\u001b[1;32m      9\u001b[0m     (\u001b[38;5;241m1\u001b[39m, \u001b[38;5;124m\"\u001b[39m\u001b[38;5;124m2025-07-10\u001b[39m\u001b[38;5;124m\"\u001b[39m, \u001b[38;5;241m100.0\u001b[39m),\n\u001b[1;32m     10\u001b[0m     (\u001b[38;5;241m2\u001b[39m, \u001b[38;5;124m\"\u001b[39m\u001b[38;5;124m2025-07-11\u001b[39m\u001b[38;5;124m\"\u001b[39m, \u001b[38;5;241m150.0\u001b[39m),\n\u001b[0;32m   (...)\u001b[0m\n\u001b[1;32m     13\u001b[0m     (\u001b[38;5;241m2\u001b[39m, \u001b[38;5;124m\"\u001b[39m\u001b[38;5;124m2025-07-14\u001b[39m\u001b[38;5;124m\"\u001b[39m, \u001b[38;5;241m180.0\u001b[39m)\n\u001b[1;32m     14\u001b[0m ], [\u001b[38;5;124m\"\u001b[39m\u001b[38;5;124mcustomer_id\u001b[39m\u001b[38;5;124m\"\u001b[39m, \u001b[38;5;124m\"\u001b[39m\u001b[38;5;124msale_date\u001b[39m\u001b[38;5;124m\"\u001b[39m, \u001b[38;5;124m\"\u001b[39m\u001b[38;5;124mamount\u001b[39m\u001b[38;5;124m\"\u001b[39m])\n\u001b[1;32m     16\u001b[0m \u001b[38;5;66;03m# Save as Delta table\u001b[39;00m\n\u001b[0;32m---> 17\u001b[0m sales_df\u001b[38;5;241m.\u001b[39mwrite\u001b[38;5;241m.\u001b[39mformat(\u001b[38;5;124m\"\u001b[39m\u001b[38;5;124mdelta\u001b[39m\u001b[38;5;124m\"\u001b[39m)\u001b[38;5;241m.\u001b[39mmode(\u001b[38;5;124m\"\u001b[39m\u001b[38;5;124moverwrite\u001b[39m\u001b[38;5;124m\"\u001b[39m)\u001b[38;5;241m.\u001b[39msaveAsTable(\u001b[38;5;124m\"\u001b[39m\u001b[38;5;124msales_data\u001b[39m\u001b[38;5;124m\"\u001b[39m)\n\u001b[1;32m     19\u001b[0m \u001b[38;5;66;03m# Create a DataFrame for large_table\u001b[39;00m\n\u001b[1;32m     20\u001b[0m large_df \u001b[38;5;241m=\u001b[39m spark\u001b[38;5;241m.\u001b[39mcreateDataFrame([\n\u001b[1;32m     21\u001b[0m     (\u001b[38;5;241m1\u001b[39m, \u001b[38;5;124m\"\u001b[39m\u001b[38;5;124mA\u001b[39m\u001b[38;5;124m\"\u001b[39m), (\u001b[38;5;241m2\u001b[39m, \u001b[38;5;124m\"\u001b[39m\u001b[38;5;124mB\u001b[39m\u001b[38;5;124m\"\u001b[39m), (\u001b[38;5;241m3\u001b[39m, \u001b[38;5;124m\"\u001b[39m\u001b[38;5;124mC\u001b[39m\u001b[38;5;124m\"\u001b[39m), (\u001b[38;5;241m4\u001b[39m, \u001b[38;5;124m\"\u001b[39m\u001b[38;5;124mD\u001b[39m\u001b[38;5;124m\"\u001b[39m), (\u001b[38;5;241m5\u001b[39m, \u001b[38;5;124m\"\u001b[39m\u001b[38;5;124mE\u001b[39m\u001b[38;5;124m\"\u001b[39m)\n\u001b[1;32m     22\u001b[0m ], [\u001b[38;5;124m\"\u001b[39m\u001b[38;5;124mid\u001b[39m\u001b[38;5;124m\"\u001b[39m, \u001b[38;5;124m\"\u001b[39m\u001b[38;5;124mvalue\u001b[39m\u001b[38;5;124m\"\u001b[39m])\n",
      "File \u001b[0;32m/opt/anaconda3/lib/python3.11/site-packages/pyspark/sql/readwriter.py:1868\u001b[0m, in \u001b[0;36mDataFrameWriter.saveAsTable\u001b[0;34m(self, name, format, mode, partitionBy, **options)\u001b[0m\n\u001b[1;32m   1866\u001b[0m \u001b[38;5;28;01mif\u001b[39;00m \u001b[38;5;28mformat\u001b[39m \u001b[38;5;129;01mis\u001b[39;00m \u001b[38;5;129;01mnot\u001b[39;00m \u001b[38;5;28;01mNone\u001b[39;00m:\n\u001b[1;32m   1867\u001b[0m     \u001b[38;5;28mself\u001b[39m\u001b[38;5;241m.\u001b[39mformat(\u001b[38;5;28mformat\u001b[39m)\n\u001b[0;32m-> 1868\u001b[0m \u001b[38;5;28mself\u001b[39m\u001b[38;5;241m.\u001b[39m_jwrite\u001b[38;5;241m.\u001b[39msaveAsTable(name)\n",
      "File \u001b[0;32m/opt/anaconda3/lib/python3.11/site-packages/py4j/java_gateway.py:1362\u001b[0m, in \u001b[0;36mJavaMember.__call__\u001b[0;34m(self, *args)\u001b[0m\n\u001b[1;32m   1356\u001b[0m command \u001b[38;5;241m=\u001b[39m proto\u001b[38;5;241m.\u001b[39mCALL_COMMAND_NAME \u001b[38;5;241m+\u001b[39m\\\n\u001b[1;32m   1357\u001b[0m     \u001b[38;5;28mself\u001b[39m\u001b[38;5;241m.\u001b[39mcommand_header \u001b[38;5;241m+\u001b[39m\\\n\u001b[1;32m   1358\u001b[0m     args_command \u001b[38;5;241m+\u001b[39m\\\n\u001b[1;32m   1359\u001b[0m     proto\u001b[38;5;241m.\u001b[39mEND_COMMAND_PART\n\u001b[1;32m   1361\u001b[0m answer \u001b[38;5;241m=\u001b[39m \u001b[38;5;28mself\u001b[39m\u001b[38;5;241m.\u001b[39mgateway_client\u001b[38;5;241m.\u001b[39msend_command(command)\n\u001b[0;32m-> 1362\u001b[0m return_value \u001b[38;5;241m=\u001b[39m get_return_value(\n\u001b[1;32m   1363\u001b[0m     answer, \u001b[38;5;28mself\u001b[39m\u001b[38;5;241m.\u001b[39mgateway_client, \u001b[38;5;28mself\u001b[39m\u001b[38;5;241m.\u001b[39mtarget_id, \u001b[38;5;28mself\u001b[39m\u001b[38;5;241m.\u001b[39mname)\n\u001b[1;32m   1365\u001b[0m \u001b[38;5;28;01mfor\u001b[39;00m temp_arg \u001b[38;5;129;01min\u001b[39;00m temp_args:\n\u001b[1;32m   1366\u001b[0m     \u001b[38;5;28;01mif\u001b[39;00m \u001b[38;5;28mhasattr\u001b[39m(temp_arg, \u001b[38;5;124m\"\u001b[39m\u001b[38;5;124m_detach\u001b[39m\u001b[38;5;124m\"\u001b[39m):\n",
      "File \u001b[0;32m/opt/anaconda3/lib/python3.11/site-packages/pyspark/errors/exceptions/captured.py:282\u001b[0m, in \u001b[0;36mcapture_sql_exception.<locals>.deco\u001b[0;34m(*a, **kw)\u001b[0m\n\u001b[1;32m    279\u001b[0m \u001b[38;5;28;01mfrom\u001b[39;00m \u001b[38;5;21;01mpy4j\u001b[39;00m\u001b[38;5;21;01m.\u001b[39;00m\u001b[38;5;21;01mprotocol\u001b[39;00m \u001b[38;5;28;01mimport\u001b[39;00m Py4JJavaError\n\u001b[1;32m    281\u001b[0m \u001b[38;5;28;01mtry\u001b[39;00m:\n\u001b[0;32m--> 282\u001b[0m     \u001b[38;5;28;01mreturn\u001b[39;00m f(\u001b[38;5;241m*\u001b[39ma, \u001b[38;5;241m*\u001b[39m\u001b[38;5;241m*\u001b[39mkw)\n\u001b[1;32m    283\u001b[0m \u001b[38;5;28;01mexcept\u001b[39;00m Py4JJavaError \u001b[38;5;28;01mas\u001b[39;00m e:\n\u001b[1;32m    284\u001b[0m     converted \u001b[38;5;241m=\u001b[39m convert_exception(e\u001b[38;5;241m.\u001b[39mjava_exception)\n",
      "File \u001b[0;32m/opt/anaconda3/lib/python3.11/site-packages/py4j/protocol.py:327\u001b[0m, in \u001b[0;36mget_return_value\u001b[0;34m(answer, gateway_client, target_id, name)\u001b[0m\n\u001b[1;32m    325\u001b[0m value \u001b[38;5;241m=\u001b[39m OUTPUT_CONVERTER[\u001b[38;5;28mtype\u001b[39m](answer[\u001b[38;5;241m2\u001b[39m:], gateway_client)\n\u001b[1;32m    326\u001b[0m \u001b[38;5;28;01mif\u001b[39;00m answer[\u001b[38;5;241m1\u001b[39m] \u001b[38;5;241m==\u001b[39m REFERENCE_TYPE:\n\u001b[0;32m--> 327\u001b[0m     \u001b[38;5;28;01mraise\u001b[39;00m Py4JJavaError(\n\u001b[1;32m    328\u001b[0m         \u001b[38;5;124m\"\u001b[39m\u001b[38;5;124mAn error occurred while calling \u001b[39m\u001b[38;5;132;01m{0}\u001b[39;00m\u001b[38;5;132;01m{1}\u001b[39;00m\u001b[38;5;132;01m{2}\u001b[39;00m\u001b[38;5;124m.\u001b[39m\u001b[38;5;130;01m\\n\u001b[39;00m\u001b[38;5;124m\"\u001b[39m\u001b[38;5;241m.\u001b[39m\n\u001b[1;32m    329\u001b[0m         \u001b[38;5;28mformat\u001b[39m(target_id, \u001b[38;5;124m\"\u001b[39m\u001b[38;5;124m.\u001b[39m\u001b[38;5;124m\"\u001b[39m, name), value)\n\u001b[1;32m    330\u001b[0m \u001b[38;5;28;01melse\u001b[39;00m:\n\u001b[1;32m    331\u001b[0m     \u001b[38;5;28;01mraise\u001b[39;00m Py4JError(\n\u001b[1;32m    332\u001b[0m         \u001b[38;5;124m\"\u001b[39m\u001b[38;5;124mAn error occurred while calling \u001b[39m\u001b[38;5;132;01m{0}\u001b[39;00m\u001b[38;5;132;01m{1}\u001b[39;00m\u001b[38;5;132;01m{2}\u001b[39;00m\u001b[38;5;124m. Trace:\u001b[39m\u001b[38;5;130;01m\\n\u001b[39;00m\u001b[38;5;132;01m{3}\u001b[39;00m\u001b[38;5;130;01m\\n\u001b[39;00m\u001b[38;5;124m\"\u001b[39m\u001b[38;5;241m.\u001b[39m\n\u001b[1;32m    333\u001b[0m         \u001b[38;5;28mformat\u001b[39m(target_id, \u001b[38;5;124m\"\u001b[39m\u001b[38;5;124m.\u001b[39m\u001b[38;5;124m\"\u001b[39m, name, value))\n",
      "\u001b[0;31mPy4JJavaError\u001b[0m: An error occurred while calling o732.saveAsTable.\n: org.apache.spark.SparkClassNotFoundException: [DATA_SOURCE_NOT_FOUND] Failed to find the data source: delta. Make sure the provider name is correct and the package is properly registered and compatible with your Spark version. SQLSTATE: 42K02\n\tat org.apache.spark.sql.errors.QueryExecutionErrors$.dataSourceNotFoundError(QueryExecutionErrors.scala:722)\n\tat org.apache.spark.sql.execution.datasources.DataSource$.lookupDataSource(DataSource.scala:681)\n\tat org.apache.spark.sql.execution.datasources.DataSource$.lookupDataSourceV2(DataSource.scala:740)\n\tat org.apache.spark.sql.classic.DataFrameWriter.lookupV2Provider(DataFrameWriter.scala:626)\n\tat org.apache.spark.sql.classic.DataFrameWriter.saveAsTable(DataFrameWriter.scala:436)\n\tat java.base/jdk.internal.reflect.NativeMethodAccessorImpl.invoke0(Native Method)\n\tat java.base/jdk.internal.reflect.NativeMethodAccessorImpl.invoke(NativeMethodAccessorImpl.java:77)\n\tat java.base/jdk.internal.reflect.DelegatingMethodAccessorImpl.invoke(DelegatingMethodAccessorImpl.java:43)\n\tat java.base/java.lang.reflect.Method.invoke(Method.java:568)\n\tat py4j.reflection.MethodInvoker.invoke(MethodInvoker.java:244)\n\tat py4j.reflection.ReflectionEngine.invoke(ReflectionEngine.java:374)\n\tat py4j.Gateway.invoke(Gateway.java:282)\n\tat py4j.commands.AbstractCommand.invokeMethod(AbstractCommand.java:132)\n\tat py4j.commands.CallCommand.execute(CallCommand.java:79)\n\tat py4j.ClientServerConnection.waitForCommands(ClientServerConnection.java:184)\n\tat py4j.ClientServerConnection.run(ClientServerConnection.java:108)\n\tat java.base/java.lang.Thread.run(Thread.java:833)\nCaused by: java.lang.ClassNotFoundException: delta.DefaultSource\n\tat java.base/java.net.URLClassLoader.findClass(URLClassLoader.java:445)\n\tat java.base/java.lang.ClassLoader.loadClass(ClassLoader.java:587)\n\tat java.base/java.lang.ClassLoader.loadClass(ClassLoader.java:520)\n\tat org.apache.spark.sql.execution.datasources.DataSource$.$anonfun$lookupDataSource$6(DataSource.scala:665)\n\tat scala.util.Try$.apply(Try.scala:217)\n\tat org.apache.spark.sql.execution.datasources.DataSource$.$anonfun$lookupDataSource$5(DataSource.scala:665)\n\tat scala.util.Failure.orElse(Try.scala:230)\n\tat org.apache.spark.sql.execution.datasources.DataSource$.lookupDataSource(DataSource.scala:665)\n\t... 15 more\n"
     ]
    }
   ],
   "source": [
    "# Create dummy sales_data table\n",
    "\n",
    "%pip install delta-spark\n",
    "\n",
    "import pandas as pd\n",
    "\n",
    "# Create a DataFrame for sales_data\n",
    "sales_df = spark.createDataFrame([\n",
    "    (1, \"2025-07-10\", 100.0),\n",
    "    (2, \"2025-07-11\", 150.0),\n",
    "    (1, \"2025-07-12\", 200.0),\n",
    "    (3, \"2025-07-13\", 120.0),\n",
    "    (2, \"2025-07-14\", 180.0)\n",
    "], [\"customer_id\", \"sale_date\", \"amount\"])\n",
    "\n",
    "# Save as Delta table\n",
    "sales_df.write.format(\"delta\").mode(\"overwrite\").saveAsTable(\"sales_data\")\n",
    "\n",
    "# Create a DataFrame for large_table\n",
    "large_df = spark.createDataFrame([\n",
    "    (1, \"A\"), (2, \"B\"), (3, \"C\"), (4, \"D\"), (5, \"E\")\n",
    "], [\"id\", \"value\"])\n",
    "\n",
    "# Save as Delta table\n",
    "large_df.write.format(\"delta\").mode(\"overwrite\").saveAsTable(\"large_table\")"
   ]
  },
  {
   "cell_type": "code",
   "execution_count": null,
   "id": "1e288408",
   "metadata": {
    "vscode": {
     "languageId": "sql"
    }
   },
   "outputs": [],
   "source": [
    "%sql\n",
    "\n",
    "-- Z-Ordering\n",
    "OPTIMIZE sales_data ZORDER BY (customer_id)\n",
    "\n",
    "-- File compaction\n",
    "OPTIMIZE large_table"
   ]
  },
  {
   "cell_type": "markdown",
   "id": "6e937e15",
   "metadata": {},
   "source": [
    "Full Load vs Incremental Load\n",
    "\n",
    "🔁 Full Load\n",
    "\t•\tDefinition: Reloading all data from the source into the destination each time.\n",
    "\t•\tWhen used:\n",
    "\t•\tSmall datasets\n",
    "\t•\tNo way to identify changes\n",
    "\t•\tWhen simplicity is more important than efficiency\n",
    "\n",
    "Pros:\n",
    "\t•\tSimple to implement\n",
    "\t•\tNo risk of missing updates\n",
    "\n",
    "Cons:\n",
    "\t•\tHigh compute and storage cost\n",
    "\t•\tWipes target table each time (risk of data loss if not done right)\n",
    "\t•\tNot scalable for large datasets\n",
    "\n",
    "⸻\n",
    "\n",
    "📥 Incremental Load\n",
    "\t•\tDefinition: Only new or changed records (delta) are extracted and loaded.\n",
    "\n",
    "Two common ways:\n",
    "\t1.\tTimestamp-based: Use last_updated_timestamp column\n",
    "\t2.\tCDC (Change Data Capture): Detect inserts, updates, deletes (requires tracking)\n",
    "\n",
    "Pros:\n",
    "\t•\tEfficient and faster\n",
    "\t•\tScalable for large data\n",
    "\t•\tLow resource consumption\n",
    "\n",
    "Cons:\n",
    "\t•\tNeeds logic to track changes\n",
    "\t•\tRisk of missing changes if timestamps aren’t reliable\n",
    "\n",
    "⸻\n",
    "\n",
    "🔧 2. PySpark Code: Fetch Only New or Changed Records (Incremental Load)\n",
    "\n",
    "Let’s assume you have:\n",
    "\t•\tsource_table: a raw table with a last_updated_ts column.\n",
    "\t•\ttarget_table: the curated/staging Delta table.\n",
    "\t•\tGoal: Append only new/updated records to the target table.\n",
    "\n",
    "⸻\n",
    "\n",
    "🛠️ Step-by-step with PySpark + Delta (Recommended Method)"
   ]
  },
  {
   "cell_type": "code",
   "execution_count": null,
   "id": "39ce08c6",
   "metadata": {
    "vscode": {
     "languageId": "sql"
    }
   },
   "outputs": [],
   "source": [
    "from pyspark.sql.functions import col\n",
    "from delta.tables import DeltaTable\n",
    "\n",
    "# Define paths or tables\n",
    "source_path = \"dbfs:/mnt/raw/source_table\"\n",
    "target_path = \"dbfs:/mnt/curated/target_table\"\n",
    "\n",
    "# Load source data\n",
    "df_source = spark.read.format(\"delta\").load(source_path)\n",
    "\n",
    "# Load target delta table\n",
    "if DeltaTable.isDeltaTable(spark, target_path):\n",
    "    delta_target = DeltaTable.forPath(spark, target_path)\n",
    "\n",
    "    # Get latest timestamp from target\n",
    "    latest_ts = delta_target.toDF().agg({\"last_updated_ts\": \"max\"}).collect()[0][0]\n",
    "\n",
    "    # Filter only new or updated records from source\n",
    "    df_incremental = df_source.filter(col(\"last_updated_ts\") > latest_ts)\n",
    "\n",
    "    # Merge into target table (UPSERT: insert new, update changed)\n",
    "    delta_target.alias(\"target\").merge(\n",
    "        df_incremental.alias(\"source\"),\n",
    "        \"target.primary_key = source.primary_key\"\n",
    "    ).whenMatchedUpdateAll() \\\n",
    "     .whenNotMatchedInsertAll() \\\n",
    "     .execute()\n",
    "\n",
    "else:\n",
    "    # If target doesn't exist, just write full load once\n",
    "    df_source.write.format(\"delta\").mode(\"overwrite\").save(target_path)"
   ]
  },
  {
   "cell_type": "markdown",
   "id": "20e23d11",
   "metadata": {
    "vscode": {
     "languageId": "sql"
    }
   },
   "source": [
    "✅ Benefits of This Approach:\n",
    "\t•\tUses MERGE for efficient upsert (no duplicate entries)\n",
    "\t•\tWorks on large datasets using Delta Lake optimization\n",
    "\t•\tUses only new records with last_updated_ts (incremental)\n",
    "\t•\tScalable for batch or scheduled workflows\n",
    "\n",
    "🔍 Optimizations for Performance:\n",
    "Strategy\n",
    "Description\n",
    "✅ Z-Ordering - Helps speed up queries on last_updated_ts or primary_key\n",
    "✅ Partitioning by Date - Use partitionBy(\"year\", \"month\") on write\n",
    "✅ Auto Optimize + Optimize - Enable on Delta for faster reads/writes\n",
    "✅ Caching - Use .cache() wisely when doing multiple operations"
   ]
  }
 ],
 "metadata": {
  "kernelspec": {
   "display_name": "base",
   "language": "python",
   "name": "python3"
  },
  "language_info": {
   "codemirror_mode": {
    "name": "ipython",
    "version": 3
   },
   "file_extension": ".py",
   "mimetype": "text/x-python",
   "name": "python",
   "nbconvert_exporter": "python",
   "pygments_lexer": "ipython3",
   "version": "3.11.7"
  }
 },
 "nbformat": 4,
 "nbformat_minor": 5
}
