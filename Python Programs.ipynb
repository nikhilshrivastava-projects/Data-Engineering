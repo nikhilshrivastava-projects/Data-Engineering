{
 "cells": [
  {
   "cell_type": "markdown",
   "id": "6351160c",
   "metadata": {},
   "source": [
    "# Q1: Find the most frequent element in a list (return element and its count)"
   ]
  },
  {
   "cell_type": "code",
   "execution_count": 3,
   "id": "60e79101",
   "metadata": {},
   "outputs": [
    {
     "name": "stdout",
     "output_type": "stream",
     "text": [
      "3 4\n"
     ]
    }
   ],
   "source": [
    "from collections import Counter\n",
    "\n",
    "list1 = [1,2,3,4,6,1,3,6,7,1,3,8,3,2]\n",
    "counter = Counter(list1)\n",
    "element, count = counter.most_common(1)[0]\n",
    "print(element, count)"
   ]
  },
  {
   "cell_type": "markdown",
   "id": "78a666b7",
   "metadata": {},
   "source": [
    "# Q2: Merge two sorted lists into one sorted list"
   ]
  },
  {
   "cell_type": "code",
   "execution_count": 2,
   "id": "2a1b50c0",
   "metadata": {},
   "outputs": [
    {
     "name": "stdout",
     "output_type": "stream",
     "text": [
      "Sorted merged lists:  [1, 1, 3, 3, 3, 5, 6, 6, 6, 7, 7, 8, 9]\n"
     ]
    }
   ],
   "source": [
    "lst1 = [3,6,8,1,5,7]\n",
    "lst2 = [6,3,9,1,6,7,3]\n",
    "print('Sorted merged lists: ',sorted(lst1+lst2))"
   ]
  },
  {
   "cell_type": "markdown",
   "id": "ecb6d12c",
   "metadata": {},
   "source": [
    "# Q3: Find the missing number in an array of integers from 0 to n"
   ]
  },
  {
   "cell_type": "code",
   "execution_count": null,
   "id": "0f783cec",
   "metadata": {},
   "outputs": [
    {
     "data": {
      "text/plain": [
       "3"
      ]
     },
     "execution_count": 1,
     "metadata": {},
     "output_type": "execute_result"
    }
   ],
   "source": [
    "# Import the array module to create an array of integers\n",
    "import array\n",
    "\n",
    "# Function to find the missing number in an array of integers from 0 to n\n",
    "# The array should contain all numbers from 0 to n except one missing number\n",
    "def find_missing(arr):\n",
    "    n = len(arr) + 1  # Since one number is missing, the actual n is length + 1\n",
    "    expected_sum = (n * (n-1)) // 2  # Sum of numbers from 0 to n-1 using the formula\n",
    "    actual_sum = sum(arr)  # Sum of elements present in the array\n",
    "    return expected_sum - actual_sum  # The difference is the missing number\n",
    "\n",
    "# Example array with numbers from 0 to 6, missing 3\n",
    "arr = array.array('i', [0,1,2,4,5,6])\n",
    "# Call the function and print the missing number\n",
    "print('Missing number in array:', find_missing(arr))"
   ]
  },
  {
   "cell_type": "markdown",
   "id": "08a73fc3",
   "metadata": {},
   "source": [
    "# Q4: Search for a target in a rotated sorted array (return index or -1)"
   ]
  },
  {
   "cell_type": "code",
   "execution_count": null,
   "id": "efdabb48",
   "metadata": {},
   "outputs": [
    {
     "name": "stdout",
     "output_type": "stream",
     "text": [
      "Index of target: 2\n"
     ]
    }
   ],
   "source": [
    "# Function to search for a target in a rotated sorted array\n",
    "# Returns the index of the target if found, else returns -1\n",
    "\n",
    "# A rotated sorted array is an array that was originally sorted in ascending order,\n",
    "# but then some leading elements were moved to the end of the array.\n",
    "# For example, [0, 1, 2, 4, 5, 6, 7] rotated at index 3 becomes [4, 5, 6, 7, 0, 1, 2].\n",
    "\n",
    "def search_rotated_array(arr, target):\n",
    "    left, right = 0, len(arr) - 1  # Initialize pointers to start and end of array\n",
    "    while left <= right:\n",
    "        mid = (left + right) // 2  # Find the middle index\n",
    "        if arr[mid] == target:\n",
    "            return mid  # Target found at mid\n",
    "        # Check if the left half is sorted\n",
    "        if arr[left] <= arr[mid]:\n",
    "            # If target is in the sorted left half\n",
    "            if arr[left] <= target < arr[mid]:\n",
    "                right = mid - 1\n",
    "            else:\n",
    "                left = mid + 1\n",
    "        # Otherwise, the right half must be sorted\n",
    "        else:\n",
    "            # If target is in the sorted right half\n",
    "            if arr[mid] < target <= arr[right]:\n",
    "                left = mid + 1\n",
    "            else:\n",
    "                right = mid - 1\n",
    "    return -1  # Target not found\n",
    "\n",
    "# Example usage:\n",
    "arr = [4, 5, 6, 7, 0, 1, 2]  # Rotated sorted array\n",
    "# Original sorted array would be [0, 1, 2, 4, 5, 6, 7]\n",
    "target = 6\n",
    "# Should return the index of 6 in the rotated array, which is 2\n",
    "print('Index of target:', search_rotated_array(arr, target))\n"
   ]
  }
 ],
 "metadata": {
  "kernelspec": {
   "display_name": "base",
   "language": "python",
   "name": "python3"
  },
  "language_info": {
   "codemirror_mode": {
    "name": "ipython",
    "version": 3
   },
   "file_extension": ".py",
   "mimetype": "text/x-python",
   "name": "python",
   "nbconvert_exporter": "python",
   "pygments_lexer": "ipython3",
   "version": "3.11.7"
  }
 },
 "nbformat": 4,
 "nbformat_minor": 5
}
